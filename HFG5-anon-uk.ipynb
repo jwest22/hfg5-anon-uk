{
 "cells": [
  {
   "cell_type": "code",
   "execution_count": 1,
   "id": "d663a5fc-bb11-4115-9d96-22a19e974639",
   "metadata": {
    "execution": {
     "iopub.execute_input": "2022-11-27T11:52:13.744858Z",
     "iopub.status.busy": "2022-11-27T11:52:13.744674Z",
     "iopub.status.idle": "2022-11-27T11:52:45.600701Z",
     "shell.execute_reply": "2022-11-27T11:52:45.600008Z",
     "shell.execute_reply.started": "2022-11-27T11:52:13.744833Z"
    },
    "tags": []
   },
   "outputs": [
    {
     "data": {
      "application/vnd.jupyter.widget-view+json": {
       "model_id": "d2a1754b6485422ca7577e76a40294cc",
       "version_major": 2,
       "version_minor": 0
      },
      "text/plain": [
       "VBox()"
      ]
     },
     "metadata": {},
     "output_type": "display_data"
    },
    {
     "name": "stdout",
     "output_type": "stream",
     "text": [
      "Starting Spark application\n"
     ]
    },
    {
     "data": {
      "text/html": [
       "<table>\n<tbody><tr><th>ID</th><th>YARN Application ID</th><th>Kind</th><th>State</th><th>Spark UI</th><th>Driver log</th><th>User</th><th>Current session?</th></tr><tr><td>14</td><td>application_1669518846024_0015</td><td>pyspark</td><td>idle</td><td><a target=\"_blank\" href=\"http://ip-10-0-29-114.us-east-2.compute.internal:20888/proxy/application_1669518846024_0015/\" class=\"emr-proxy-link j-1EY9PHA3EI91Z application_1669518846024_0015\" emr-resource=\"j-1EY9PHA3EI91Z\n\" application-id=\"application_1669518846024_0015\">Link</a></td><td><a target=\"_blank\" href=\"http://ip-10-0-23-58.us-east-2.compute.internal:8042/node/containerlogs/container_1669518846024_0015_01_000001/livy\">Link</a></td><td>None</td><td>✔</td></tr></tbody></table>"
      ],
      "text/plain": [
       "<IPython.core.display.HTML object>"
      ]
     },
     "metadata": {},
     "output_type": "display_data"
    },
    {
     "data": {
      "application/vnd.jupyter.widget-view+json": {
       "model_id": "",
       "version_major": 2,
       "version_minor": 0
      },
      "text/plain": [
       "FloatProgress(value=0.0, bar_style='info', description='Progress:', layout=Layout(height='25px', width='50%'),…"
      ]
     },
     "metadata": {},
     "output_type": "display_data"
    },
    {
     "name": "stdout",
     "output_type": "stream",
     "text": [
      "SparkSession available as 'spark'.\n"
     ]
    },
    {
     "data": {
      "application/vnd.jupyter.widget-view+json": {
       "model_id": "",
       "version_major": 2,
       "version_minor": 0
      },
      "text/plain": [
       "FloatProgress(value=0.0, bar_style='info', description='Progress:', layout=Layout(height='25px', width='50%'),…"
      ]
     },
     "metadata": {},
     "output_type": "display_data"
    },
    {
     "name": "stdout",
     "output_type": "stream",
     "text": [
      "Spark NLP version:  4.2.3\n",
      "Apache Spark version:  3.2.0-amzn-0"
     ]
    }
   ],
   "source": [
    "from pyspark.sql import SparkSession\n",
    "from pyspark.ml import Pipeline\n",
    "from sparknlp.annotator import *\n",
    "from sparknlp.common import *\n",
    "from sparknlp.base import *\n",
    "import sparknlp\n",
    "from pyspark.sql.functions import monotonically_increasing_id\n",
    "from pyspark.sql.functions import regexp_replace\n",
    "from sparknlp.training import CoNLL\n",
    "from sparknlp.pretrained import PretrainedPipeline\n",
    "from pyspark.sql.functions import col,lit\n",
    "import numpy as np\n",
    "import json\n",
    "import pyspark.sql.functions as F\n",
    "\n",
    "spark = sparknlp.start()\n",
    "print(\"Spark NLP version: \", sparknlp.version())\n",
    "print(\"Apache Spark version: \", spark.version)"
   ]
  },
  {
   "cell_type": "code",
   "execution_count": 2,
   "id": "cf64d6bd-e7eb-4777-a2e7-78eac7ac8671",
   "metadata": {
    "execution": {
     "iopub.execute_input": "2022-11-27T11:52:45.602252Z",
     "iopub.status.busy": "2022-11-27T11:52:45.601995Z",
     "iopub.status.idle": "2022-11-27T11:52:58.908169Z",
     "shell.execute_reply": "2022-11-27T11:52:58.907555Z",
     "shell.execute_reply.started": "2022-11-27T11:52:45.602219Z"
    },
    "tags": []
   },
   "outputs": [
    {
     "data": {
      "application/vnd.jupyter.widget-view+json": {
       "model_id": "5d03adf01efb403ba5f34c192c96e459",
       "version_major": 2,
       "version_minor": 0
      },
      "text/plain": [
       "VBox()"
      ]
     },
     "metadata": {},
     "output_type": "display_data"
    },
    {
     "data": {
      "application/vnd.jupyter.widget-view+json": {
       "model_id": "",
       "version_major": 2,
       "version_minor": 0
      },
      "text/plain": [
       "FloatProgress(value=0.0, bar_style='info', description='Progress:', layout=Layout(height='25px', width='50%'),…"
      ]
     },
     "metadata": {},
     "output_type": "display_data"
    }
   ],
   "source": [
    "df = spark.read.load('s3://hfg5-2022-11-25/uk-headlines/ukrainian-news-headlines.jsonl', format='json')"
   ]
  },
  {
   "cell_type": "code",
   "execution_count": 3,
   "id": "1b41f59a-b00e-4f47-97fd-6660bb60b0e7",
   "metadata": {
    "execution": {
     "iopub.execute_input": "2022-11-27T11:52:58.909914Z",
     "iopub.status.busy": "2022-11-27T11:52:58.909654Z",
     "iopub.status.idle": "2022-11-27T11:53:00.176773Z",
     "shell.execute_reply": "2022-11-27T11:53:00.176036Z",
     "shell.execute_reply.started": "2022-11-27T11:52:58.909879Z"
    },
    "tags": []
   },
   "outputs": [
    {
     "data": {
      "application/vnd.jupyter.widget-view+json": {
       "model_id": "7716c73fe7dd4091b5f4b7a48175988b",
       "version_major": 2,
       "version_minor": 0
      },
      "text/plain": [
       "VBox()"
      ]
     },
     "metadata": {},
     "output_type": "display_data"
    },
    {
     "data": {
      "application/vnd.jupyter.widget-view+json": {
       "model_id": "",
       "version_major": 2,
       "version_minor": 0
      },
      "text/plain": [
       "FloatProgress(value=0.0, bar_style='info', description='Progress:', layout=Layout(height='25px', width='50%'),…"
      ]
     },
     "metadata": {},
     "output_type": "display_data"
    },
    {
     "name": "stdout",
     "output_type": "stream",
     "text": [
      "+--------------------+------+\n",
      "|            headline|length|\n",
      "+--------------------+------+\n",
      "|У США два штати в...|    41|\n",
      "|РФ, забравши укра...|    80|\n",
      "|Фельдман задеклар...|    75|\n",
      "|В Одесі помилка н...|    65|\n",
      "|Українські вчені ...|    63|\n",
      "|На Житомирщині ст...|    58|\n",
      "|НАЗК оприлюднило ...|    46|\n",
      "|Пожежу у Зоні від...|    37|\n",
      "|Міністром торгівл...|    68|\n",
      "|Київська влада пр...|    53|\n",
      "|Прикордонники: У ...|    68|\n",
      "|Трамп у пошуку ви...|    60|\n",
      "|Голубовська розпо...|    67|\n",
      "|До України прибул...|    50|\n",
      "|Майже 4 тис. укра...|    79|\n",
      "|Бойовики обстріля...|    47|\n",
      "|У Чорнобильський ...|    50|\n",
      "|АКЦІЯ \"УКРАЇНА БЕ...|    25|\n",
      "|Кабмін доручив ти...|    61|\n",
      "|В Україні запусти...|    51|\n",
      "+--------------------+------+\n",
      "only showing top 20 rows"
     ]
    }
   ],
   "source": [
    "df.show()"
   ]
  },
  {
   "cell_type": "code",
   "execution_count": 4,
   "id": "e695f12d-0f9e-4bc9-bf75-c2a4d29fb620",
   "metadata": {
    "execution": {
     "iopub.execute_input": "2022-11-27T11:53:00.178436Z",
     "iopub.status.busy": "2022-11-27T11:53:00.178165Z",
     "iopub.status.idle": "2022-11-27T11:53:15.963521Z",
     "shell.execute_reply": "2022-11-27T11:53:15.962874Z",
     "shell.execute_reply.started": "2022-11-27T11:53:00.178399Z"
    },
    "tags": []
   },
   "outputs": [
    {
     "data": {
      "application/vnd.jupyter.widget-view+json": {
       "model_id": "0feda42e6c724848bee573bf2011cb81",
       "version_major": 2,
       "version_minor": 0
      },
      "text/plain": [
       "VBox()"
      ]
     },
     "metadata": {},
     "output_type": "display_data"
    },
    {
     "data": {
      "application/vnd.jupyter.widget-view+json": {
       "model_id": "",
       "version_major": 2,
       "version_minor": 0
      },
      "text/plain": [
       "FloatProgress(value=0.0, bar_style='info', description='Progress:', layout=Layout(height='25px', width='50%'),…"
      ]
     },
     "metadata": {},
     "output_type": "display_data"
    },
    {
     "name": "stdout",
     "output_type": "stream",
     "text": [
      "xlmroberta_ner_uk_ner download started this may take some time.\n",
      "Approximate size to download 387.4 MB\n",
      "[OK!]"
     ]
    }
   ],
   "source": [
    "documentAssembler = DocumentAssembler() \\\n",
    "     .setInputCol(\"headline\")\\\n",
    "     .setOutputCol(\"document\")\n",
    "\n",
    "sentenceDetector = SentenceDetectorDLApproach() \\\n",
    "    .setInputCols([\"document\"]) \\\n",
    "    .setOutputCol(\"sentence\") \\\n",
    "\n",
    "tokenizer = Tokenizer() \\\n",
    "    .setInputCols(\"sentence\") \\\n",
    "    .setOutputCol(\"token\")\n",
    "\n",
    "tokenClassifier = XlmRoBertaForTokenClassification.pretrained(\"xlmroberta_ner_uk_ner\",\"uk\") \\\n",
    "    .setInputCols([\"sentence\", \"token\"]) \\\n",
    "    .setOutputCol(\"ner\")\n",
    "\n",
    "pipeline = Pipeline(stages=[documentAssembler, sentenceDetector, tokenizer, tokenClassifier])"
   ]
  },
  {
   "cell_type": "code",
   "execution_count": 7,
   "id": "6be7876c-76f7-4fcd-be62-697b43feb618",
   "metadata": {
    "execution": {
     "iopub.execute_input": "2022-11-27T11:54:24.337484Z",
     "iopub.status.busy": "2022-11-27T11:54:24.337264Z",
     "iopub.status.idle": "2022-11-27T11:54:24.373778Z",
     "shell.execute_reply": "2022-11-27T11:54:24.373109Z",
     "shell.execute_reply.started": "2022-11-27T11:54:24.337460Z"
    },
    "tags": []
   },
   "outputs": [
    {
     "data": {
      "application/vnd.jupyter.widget-view+json": {
       "model_id": "6f091b7006d24919b155fa3b694ddfe1",
       "version_major": 2,
       "version_minor": 0
      },
      "text/plain": [
       "VBox()"
      ]
     },
     "metadata": {},
     "output_type": "display_data"
    },
    {
     "name": "stderr",
     "output_type": "stream",
     "text": [
      "An error was encountered:\n",
      "Session 14 unexpectedly reached final status 'dead'. See logs:\n",
      "stdout: \n",
      ":: loading settings :: url = jar:file:/usr/lib/spark/jars/ivy-2.5.0.jar!/org/apache/ivy/core/settings/ivysettings.xml\n",
      "\n",
      "stderr: \n",
      "Ivy Default Cache set to: /var/lib/livy/.ivy2/cache\n",
      "The jars for the packages stored in: /var/lib/livy/.ivy2/jars\n",
      "com.johnsnowlabs.nlp#spark-nlp_2.12 added as a dependency\n",
      ":: resolving dependencies :: org.apache.spark#spark-submit-parent-b92ef5d7-9e64-47ab-83ce-0a971593c576;1.0\n",
      "\tconfs: [default]\n",
      "\tfound com.johnsnowlabs.nlp#spark-nlp_2.12;4.2.3 in central\n",
      "\tfound com.typesafe#config;1.4.2 in central\n",
      "\tfound org.rocksdb#rocksdbjni;6.29.5 in central\n",
      "\tfound com.amazonaws#aws-java-sdk-bundle;1.11.828 in central\n",
      "\tfound com.github.universal-automata#liblevenshtein;3.0.0 in central\n",
      "\tfound com.google.code.findbugs#annotations;3.0.1 in central\n",
      "\tfound net.jcip#jcip-annotations;1.0 in central\n",
      "\tfound com.google.code.findbugs#jsr305;3.0.1 in central\n",
      "\tfound com.google.protobuf#protobuf-java-util;3.0.0-beta-3 in central\n",
      "\tfound com.google.protobuf#protobuf-java;3.0.0-beta-3 in central\n",
      "\tfound com.google.code.gson#gson;2.3 in central\n",
      "\tfound it.unimi.dsi#fastutil;7.0.12 in central\n",
      "\tfound org.projectlombok#lombok;1.16.8 in central\n",
      "\tfound org.slf4j#slf4j-api;1.7.21 in central\n",
      "\tfound com.navigamez#greex;1.0 in central\n",
      "\tfound dk.brics.automaton#automaton;1.11-8 in central\n",
      "\tfound com.johnsnowlabs.nlp#tensorflow-cpu_2.12;0.4.3 in central\n",
      ":: resolution report :: resolve 417ms :: artifacts dl 23ms\n",
      "\t:: modules in use:\n",
      "\tcom.amazonaws#aws-java-sdk-bundle;1.11.828 from central in [default]\n",
      "\tcom.github.universal-automata#liblevenshtein;3.0.0 from central in [default]\n",
      "\tcom.google.code.findbugs#annotations;3.0.1 from central in [default]\n",
      "\tcom.google.code.findbugs#jsr305;3.0.1 from central in [default]\n",
      "\tcom.google.code.gson#gson;2.3 from central in [default]\n",
      "\tcom.google.protobuf#protobuf-java;3.0.0-beta-3 from central in [default]\n",
      "\tcom.google.protobuf#protobuf-java-util;3.0.0-beta-3 from central in [default]\n",
      "\tcom.johnsnowlabs.nlp#spark-nlp_2.12;4.2.3 from central in [default]\n",
      "\tcom.johnsnowlabs.nlp#tensorflow-cpu_2.12;0.4.3 from central in [default]\n",
      "\tcom.navigamez#greex;1.0 from central in [default]\n",
      "\tcom.typesafe#config;1.4.2 from central in [default]\n",
      "\tdk.brics.automaton#automaton;1.11-8 from central in [default]\n",
      "\tit.unimi.dsi#fastutil;7.0.12 from central in [default]\n",
      "\tnet.jcip#jcip-annotations;1.0 from central in [default]\n",
      "\torg.projectlombok#lombok;1.16.8 from central in [default]\n",
      "\torg.rocksdb#rocksdbjni;6.29.5 from central in [default]\n",
      "\torg.slf4j#slf4j-api;1.7.21 from central in [default]\n",
      "\t---------------------------------------------------------------------\n",
      "\t|                  |            modules            ||   artifacts   |\n",
      "\t|       conf       | number| search|dwnlded|evicted|| number|dwnlded|\n",
      "\t---------------------------------------------------------------------\n",
      "\t|      default     |   17  |   0   |   0   |   0   ||   17  |   0   |\n",
      "\t---------------------------------------------------------------------\n",
      ":: retrieving :: org.apache.spark#spark-submit-parent-b92ef5d7-9e64-47ab-83ce-0a971593c576\n",
      "\tconfs: [default]\n",
      "\t0 artifacts copied, 17 already retrieved (0kB/14ms)\n",
      "22/11/27 11:52:15 WARN NativeCodeLoader: Unable to load native-hadoop library for your platform... using builtin-java classes where applicable\n",
      "22/11/27 11:52:16 INFO RMProxy: Connecting to ResourceManager at ip-10-0-29-114.us-east-2.compute.internal/10.0.29.114:8032\n",
      "22/11/27 11:52:16 INFO Client: Requesting a new application from cluster with 5 NodeManagers\n",
      "22/11/27 11:52:16 INFO Configuration: resource-types.xml not found\n",
      "22/11/27 11:52:16 INFO ResourceUtils: Unable to find 'resource-types.xml'.\n",
      "22/11/27 11:52:16 INFO Client: Verifying our application has not requested more than the maximum memory capability of the cluster (12288 MB per container)\n",
      "22/11/27 11:52:16 INFO Client: Will allocate AM container, with 2432 MB memory including 384 MB overhead\n",
      "22/11/27 11:52:16 INFO Client: Setting up container launch context for our AM\n",
      "22/11/27 11:52:16 INFO Client: Setting up the launch environment for our AM container\n",
      "22/11/27 11:52:16 INFO Client: Preparing resources for our AM container\n",
      "22/11/27 11:52:17 WARN Client: Neither spark.yarn.jars nor spark.yarn.archive is set, falling back to uploading libraries under SPARK_HOME.\n",
      "22/11/27 11:52:19 INFO Client: Uploading resource file:/mnt/tmp/spark-b5ae6887-cb08-4313-9738-90542c330941/__spark_libs__410321484154122327.zip -> hdfs:/tmp/livy/.sparkStaging/application_1669518846024_0015/__spark_libs__410321484154122327.zip\n",
      "22/11/27 11:52:20 INFO Client: Uploading resource file:/usr/lib/livy/rsc-jars/arpack_combined_all-0.1.jar -> hdfs:/tmp/livy/.sparkStaging/application_1669518846024_0015/arpack_combined_all-0.1.jar\n",
      "22/11/27 11:52:21 INFO Client: Uploading resource file:/usr/lib/livy/rsc-jars/core-1.1.2.jar -> hdfs:/tmp/livy/.sparkStaging/application_1669518846024_0015/core-1.1.2.jar\n",
      "22/11/27 11:52:21 INFO Client: Uploading resource file:/usr/lib/livy/rsc-jars/jniloader-1.1.jar -> hdfs:/tmp/livy/.sparkStaging/application_1669518846024_0015/jniloader-1.1.jar\n",
      "22/11/27 11:52:21 INFO Client: Uploading resource file:/usr/lib/livy/rsc-jars/livy-api-0.7.1-incubating.jar -> hdfs:/tmp/livy/.sparkStaging/application_1669518846024_0015/livy-api-0.7.1-incubating.jar\n",
      "22/11/27 11:52:21 INFO Client: Uploading resource file:/usr/lib/livy/rsc-jars/livy-rsc-0.7.1-incubating.jar -> hdfs:/tmp/livy/.sparkStaging/application_1669518846024_0015/livy-rsc-0.7.1-incubating.jar\n",
      "22/11/27 11:52:21 INFO Client: Uploading resource file:/usr/lib/livy/rsc-jars/livy-thriftserver-session-0.7.1-incubating.jar -> hdfs:/tmp/livy/.sparkStaging/application_1669518846024_0015/livy-thriftserver-session-0.7.1-incubating.jar\n",
      "22/11/27 11:52:21 INFO Client: Uploading resource file:/usr/lib/livy/rsc-jars/native_ref-java-1.1.jar -> hdfs:/tmp/livy/.sparkStaging/application_1669518846024_0015/native_ref-java-1.1.jar\n",
      "22/11/27 11:52:21 INFO Client: Uploading resource file:/usr/lib/livy/rsc-jars/native_system-java-1.1.jar -> hdfs:/tmp/livy/.sparkStaging/application_1669518846024_0015/native_system-java-1.1.jar\n",
      "22/11/27 11:52:21 INFO Client: Uploading resource file:/usr/lib/livy/rsc-jars/netlib-native_ref-linux-armhf-1.1-natives.jar -> hdfs:/tmp/livy/.sparkStaging/application_1669518846024_0015/netlib-native_ref-linux-armhf-1.1-natives.jar\n",
      "22/11/27 11:52:21 INFO Client: Uploading resource file:/usr/lib/livy/rsc-jars/netlib-native_ref-linux-i686-1.1-natives.jar -> hdfs:/tmp/livy/.sparkStaging/application_1669518846024_0015/netlib-native_ref-linux-i686-1.1-natives.jar\n",
      "22/11/27 11:52:21 INFO Client: Uploading resource file:/usr/lib/livy/rsc-jars/netlib-native_ref-linux-x86_64-1.1-natives.jar -> hdfs:/tmp/livy/.sparkStaging/application_1669518846024_0015/netlib-native_ref-linux-x86_64-1.1-natives.jar\n",
      "22/11/27 11:52:21 INFO Client: Uploading resource file:/usr/lib/livy/rsc-jars/netlib-native_ref-osx-x86_64-1.1-natives.jar -> hdfs:/tmp/livy/.sparkStaging/application_1669518846024_0015/netlib-native_ref-osx-x86_64-1.1-natives.jar\n",
      "22/11/27 11:52:21 INFO Client: Uploading resource file:/usr/lib/livy/rsc-jars/netlib-native_ref-win-i686-1.1-natives.jar -> hdfs:/tmp/livy/.sparkStaging/application_1669518846024_0015/netlib-native_ref-win-i686-1.1-natives.jar\n",
      "22/11/27 11:52:21 INFO Client: Uploading resource file:/usr/lib/livy/rsc-jars/netlib-native_ref-win-x86_64-1.1-natives.jar -> hdfs:/tmp/livy/.sparkStaging/application_1669518846024_0015/netlib-native_ref-win-x86_64-1.1-natives.jar\n",
      "22/11/27 11:52:21 INFO Client: Uploading resource file:/usr/lib/livy/rsc-jars/netlib-native_system-linux-armhf-1.1-natives.jar -> hdfs:/tmp/livy/.sparkStaging/application_1669518846024_0015/netlib-native_system-linux-armhf-1.1-natives.jar\n",
      "22/11/27 11:52:21 INFO Client: Uploading resource file:/usr/lib/livy/rsc-jars/netlib-native_system-linux-i686-1.1-natives.jar -> hdfs:/tmp/livy/.sparkStaging/application_1669518846024_0015/netlib-native_system-linux-i686-1.1-natives.jar\n",
      "22/11/27 11:52:21 INFO Client: Uploading resource file:/usr/lib/livy/rsc-jars/netlib-native_system-linux-x86_64-1.1-natives.jar -> hdfs:/tmp/livy/.sparkStaging/application_1669518846024_0015/netlib-native_system-linux-x86_64-1.1-natives.jar\n",
      "22/11/27 11:52:21 INFO Client: Uploading resource file:/usr/lib/livy/rsc-jars/netlib-native_system-osx-x86_64-1.1-natives.jar -> hdfs:/tmp/livy/.sparkStaging/application_1669518846024_0015/netlib-native_system-osx-x86_64-1.1-natives.jar\n",
      "22/11/27 11:52:21 INFO Client: Uploading resource file:/usr/lib/livy/rsc-jars/netlib-native_system-win-i686-1.1-natives.jar -> hdfs:/tmp/livy/.sparkStaging/application_1669518846024_0015/netlib-native_system-win-i686-1.1-natives.jar\n",
      "22/11/27 11:52:21 INFO Client: Uploading resource file:/usr/lib/livy/rsc-jars/netlib-native_system-win-x86_64-1.1-natives.jar -> hdfs:/tmp/livy/.sparkStaging/application_1669518846024_0015/netlib-native_system-win-x86_64-1.1-natives.jar\n",
      "22/11/27 11:52:21 INFO Client: Uploading resource file:/usr/lib/livy/rsc-jars/netty-all-4.1.17.Final.jar -> hdfs:/tmp/livy/.sparkStaging/application_1669518846024_0015/netty-all-4.1.17.Final.jar\n",
      "22/11/27 11:52:21 INFO Client: Uploading resource file:/usr/lib/livy/repl_2.12-jars/commons-codec-1.9.jar -> hdfs:/tmp/livy/.sparkStaging/application_1669518846024_0015/commons-codec-1.9.jar\n",
      "22/11/27 11:52:21 INFO Client: Uploading resource file:/usr/lib/livy/repl_2.12-jars/livy-core_2.12-0.7.1-incubating.jar -> hdfs:/tmp/livy/.sparkStaging/application_1669518846024_0015/livy-core_2.12-0.7.1-incubating.jar\n",
      "22/11/27 11:52:21 INFO Client: Uploading resource file:/usr/lib/livy/repl_2.12-jars/livy-repl_2.12-0.7.1-incubating.jar -> hdfs:/tmp/livy/.sparkStaging/application_1669518846024_0015/livy-repl_2.12-0.7.1-incubating.jar\n",
      "22/11/27 11:52:21 INFO Client: Uploading resource file:/mnt/var/lib/livy/.ivy2/jars/com.johnsnowlabs.nlp_spark-nlp_2.12-4.2.3.jar -> hdfs:/tmp/livy/.sparkStaging/application_1669518846024_0015/com.johnsnowlabs.nlp_spark-nlp_2.12-4.2.3.jar\n",
      "22/11/27 11:52:21 INFO Client: Uploading resource file:/mnt/var/lib/livy/.ivy2/jars/com.typesafe_config-1.4.2.jar -> hdfs:/tmp/livy/.sparkStaging/application_1669518846024_0015/com.typesafe_config-1.4.2.jar\n",
      "22/11/27 11:52:21 INFO Client: Uploading resource file:/mnt/var/lib/livy/.ivy2/jars/org.rocksdb_rocksdbjni-6.29.5.jar -> hdfs:/tmp/livy/.sparkStaging/application_1669518846024_0015/org.rocksdb_rocksdbjni-6.29.5.jar\n",
      "22/11/27 11:52:21 INFO Client: Uploading resource file:/mnt/var/lib/livy/.ivy2/jars/com.amazonaws_aws-java-sdk-bundle-1.11.828.jar -> hdfs:/tmp/livy/.sparkStaging/application_1669518846024_0015/com.amazonaws_aws-java-sdk-bundle-1.11.828.jar\n",
      "22/11/27 11:52:22 INFO Client: Uploading resource file:/mnt/var/lib/livy/.ivy2/jars/com.github.universal-automata_liblevenshtein-3.0.0.jar -> hdfs:/tmp/livy/.sparkStaging/application_1669518846024_0015/com.github.universal-automata_liblevenshtein-3.0.0.jar\n",
      "22/11/27 11:52:22 INFO Client: Uploading resource file:/mnt/var/lib/livy/.ivy2/jars/com.navigamez_greex-1.0.jar -> hdfs:/tmp/livy/.sparkStaging/application_1669518846024_0015/com.navigamez_greex-1.0.jar\n",
      "22/11/27 11:52:22 INFO Client: Uploading resource file:/mnt/var/lib/livy/.ivy2/jars/com.johnsnowlabs.nlp_tensorflow-cpu_2.12-0.4.3.jar -> hdfs:/tmp/livy/.sparkStaging/application_1669518846024_0015/com.johnsnowlabs.nlp_tensorflow-cpu_2.12-0.4.3.jar\n",
      "22/11/27 11:52:22 INFO Client: Uploading resource file:/mnt/var/lib/livy/.ivy2/jars/com.google.code.findbugs_annotations-3.0.1.jar -> hdfs:/tmp/livy/.sparkStaging/application_1669518846024_0015/com.google.code.findbugs_annotations-3.0.1.jar\n",
      "22/11/27 11:52:22 INFO Client: Uploading resource file:/mnt/var/lib/livy/.ivy2/jars/com.google.protobuf_protobuf-java-util-3.0.0-beta-3.jar -> hdfs:/tmp/livy/.sparkStaging/application_1669518846024_0015/com.google.protobuf_protobuf-java-util-3.0.0-beta-3.jar\n",
      "22/11/27 11:52:22 INFO Client: Uploading resource file:/mnt/var/lib/livy/.ivy2/jars/com.google.protobuf_protobuf-java-3.0.0-beta-3.jar -> hdfs:/tmp/livy/.sparkStaging/application_1669518846024_0015/com.google.protobuf_protobuf-java-3.0.0-beta-3.jar\n",
      "22/11/27 11:52:22 INFO Client: Uploading resource file:/mnt/var/lib/livy/.ivy2/jars/it.unimi.dsi_fastutil-7.0.12.jar -> hdfs:/tmp/livy/.sparkStaging/application_1669518846024_0015/it.unimi.dsi_fastutil-7.0.12.jar\n"
     ]
    }
   ],
   "source": [
    "ner_model = pipeline.fit(df)"
   ]
  },
  {
   "cell_type": "code",
   "execution_count": 6,
   "id": "5f478726-5869-4df6-8c72-9351e3a79134",
   "metadata": {
    "execution": {
     "iopub.execute_input": "2022-11-27T11:54:06.607317Z",
     "iopub.status.busy": "2022-11-27T11:54:06.606938Z",
     "iopub.status.idle": "2022-11-27T11:54:06.648894Z",
     "shell.execute_reply": "2022-11-27T11:54:06.648290Z",
     "shell.execute_reply.started": "2022-11-27T11:54:06.607281Z"
    }
   },
   "outputs": [
    {
     "data": {
      "application/vnd.jupyter.widget-view+json": {
       "model_id": "fcc0ee4354d5406384fcbed916e50431",
       "version_major": 2,
       "version_minor": 0
      },
      "text/plain": [
       "VBox()"
      ]
     },
     "metadata": {},
     "output_type": "display_data"
    },
    {
     "name": "stderr",
     "output_type": "stream",
     "text": [
      "An error was encountered:\n",
      "Session 14 unexpectedly reached final status 'dead'. See logs:\n",
      "stdout: \n",
      ":: loading settings :: url = jar:file:/usr/lib/spark/jars/ivy-2.5.0.jar!/org/apache/ivy/core/settings/ivysettings.xml\n",
      "\n",
      "stderr: \n",
      "Ivy Default Cache set to: /var/lib/livy/.ivy2/cache\n",
      "The jars for the packages stored in: /var/lib/livy/.ivy2/jars\n",
      "com.johnsnowlabs.nlp#spark-nlp_2.12 added as a dependency\n",
      ":: resolving dependencies :: org.apache.spark#spark-submit-parent-b92ef5d7-9e64-47ab-83ce-0a971593c576;1.0\n",
      "\tconfs: [default]\n",
      "\tfound com.johnsnowlabs.nlp#spark-nlp_2.12;4.2.3 in central\n",
      "\tfound com.typesafe#config;1.4.2 in central\n",
      "\tfound org.rocksdb#rocksdbjni;6.29.5 in central\n",
      "\tfound com.amazonaws#aws-java-sdk-bundle;1.11.828 in central\n",
      "\tfound com.github.universal-automata#liblevenshtein;3.0.0 in central\n",
      "\tfound com.google.code.findbugs#annotations;3.0.1 in central\n",
      "\tfound net.jcip#jcip-annotations;1.0 in central\n",
      "\tfound com.google.code.findbugs#jsr305;3.0.1 in central\n",
      "\tfound com.google.protobuf#protobuf-java-util;3.0.0-beta-3 in central\n",
      "\tfound com.google.protobuf#protobuf-java;3.0.0-beta-3 in central\n",
      "\tfound com.google.code.gson#gson;2.3 in central\n",
      "\tfound it.unimi.dsi#fastutil;7.0.12 in central\n",
      "\tfound org.projectlombok#lombok;1.16.8 in central\n",
      "\tfound org.slf4j#slf4j-api;1.7.21 in central\n",
      "\tfound com.navigamez#greex;1.0 in central\n",
      "\tfound dk.brics.automaton#automaton;1.11-8 in central\n",
      "\tfound com.johnsnowlabs.nlp#tensorflow-cpu_2.12;0.4.3 in central\n",
      ":: resolution report :: resolve 417ms :: artifacts dl 23ms\n",
      "\t:: modules in use:\n",
      "\tcom.amazonaws#aws-java-sdk-bundle;1.11.828 from central in [default]\n",
      "\tcom.github.universal-automata#liblevenshtein;3.0.0 from central in [default]\n",
      "\tcom.google.code.findbugs#annotations;3.0.1 from central in [default]\n",
      "\tcom.google.code.findbugs#jsr305;3.0.1 from central in [default]\n",
      "\tcom.google.code.gson#gson;2.3 from central in [default]\n",
      "\tcom.google.protobuf#protobuf-java;3.0.0-beta-3 from central in [default]\n",
      "\tcom.google.protobuf#protobuf-java-util;3.0.0-beta-3 from central in [default]\n",
      "\tcom.johnsnowlabs.nlp#spark-nlp_2.12;4.2.3 from central in [default]\n",
      "\tcom.johnsnowlabs.nlp#tensorflow-cpu_2.12;0.4.3 from central in [default]\n",
      "\tcom.navigamez#greex;1.0 from central in [default]\n",
      "\tcom.typesafe#config;1.4.2 from central in [default]\n",
      "\tdk.brics.automaton#automaton;1.11-8 from central in [default]\n",
      "\tit.unimi.dsi#fastutil;7.0.12 from central in [default]\n",
      "\tnet.jcip#jcip-annotations;1.0 from central in [default]\n",
      "\torg.projectlombok#lombok;1.16.8 from central in [default]\n",
      "\torg.rocksdb#rocksdbjni;6.29.5 from central in [default]\n",
      "\torg.slf4j#slf4j-api;1.7.21 from central in [default]\n",
      "\t---------------------------------------------------------------------\n",
      "\t|                  |            modules            ||   artifacts   |\n",
      "\t|       conf       | number| search|dwnlded|evicted|| number|dwnlded|\n",
      "\t---------------------------------------------------------------------\n",
      "\t|      default     |   17  |   0   |   0   |   0   ||   17  |   0   |\n",
      "\t---------------------------------------------------------------------\n",
      ":: retrieving :: org.apache.spark#spark-submit-parent-b92ef5d7-9e64-47ab-83ce-0a971593c576\n",
      "\tconfs: [default]\n",
      "\t0 artifacts copied, 17 already retrieved (0kB/14ms)\n",
      "22/11/27 11:52:15 WARN NativeCodeLoader: Unable to load native-hadoop library for your platform... using builtin-java classes where applicable\n",
      "22/11/27 11:52:16 INFO RMProxy: Connecting to ResourceManager at ip-10-0-29-114.us-east-2.compute.internal/10.0.29.114:8032\n",
      "22/11/27 11:52:16 INFO Client: Requesting a new application from cluster with 5 NodeManagers\n",
      "22/11/27 11:52:16 INFO Configuration: resource-types.xml not found\n",
      "22/11/27 11:52:16 INFO ResourceUtils: Unable to find 'resource-types.xml'.\n",
      "22/11/27 11:52:16 INFO Client: Verifying our application has not requested more than the maximum memory capability of the cluster (12288 MB per container)\n",
      "22/11/27 11:52:16 INFO Client: Will allocate AM container, with 2432 MB memory including 384 MB overhead\n",
      "22/11/27 11:52:16 INFO Client: Setting up container launch context for our AM\n",
      "22/11/27 11:52:16 INFO Client: Setting up the launch environment for our AM container\n",
      "22/11/27 11:52:16 INFO Client: Preparing resources for our AM container\n",
      "22/11/27 11:52:17 WARN Client: Neither spark.yarn.jars nor spark.yarn.archive is set, falling back to uploading libraries under SPARK_HOME.\n",
      "22/11/27 11:52:19 INFO Client: Uploading resource file:/mnt/tmp/spark-b5ae6887-cb08-4313-9738-90542c330941/__spark_libs__410321484154122327.zip -> hdfs:/tmp/livy/.sparkStaging/application_1669518846024_0015/__spark_libs__410321484154122327.zip\n",
      "22/11/27 11:52:20 INFO Client: Uploading resource file:/usr/lib/livy/rsc-jars/arpack_combined_all-0.1.jar -> hdfs:/tmp/livy/.sparkStaging/application_1669518846024_0015/arpack_combined_all-0.1.jar\n",
      "22/11/27 11:52:21 INFO Client: Uploading resource file:/usr/lib/livy/rsc-jars/core-1.1.2.jar -> hdfs:/tmp/livy/.sparkStaging/application_1669518846024_0015/core-1.1.2.jar\n",
      "22/11/27 11:52:21 INFO Client: Uploading resource file:/usr/lib/livy/rsc-jars/jniloader-1.1.jar -> hdfs:/tmp/livy/.sparkStaging/application_1669518846024_0015/jniloader-1.1.jar\n",
      "22/11/27 11:52:21 INFO Client: Uploading resource file:/usr/lib/livy/rsc-jars/livy-api-0.7.1-incubating.jar -> hdfs:/tmp/livy/.sparkStaging/application_1669518846024_0015/livy-api-0.7.1-incubating.jar\n",
      "22/11/27 11:52:21 INFO Client: Uploading resource file:/usr/lib/livy/rsc-jars/livy-rsc-0.7.1-incubating.jar -> hdfs:/tmp/livy/.sparkStaging/application_1669518846024_0015/livy-rsc-0.7.1-incubating.jar\n",
      "22/11/27 11:52:21 INFO Client: Uploading resource file:/usr/lib/livy/rsc-jars/livy-thriftserver-session-0.7.1-incubating.jar -> hdfs:/tmp/livy/.sparkStaging/application_1669518846024_0015/livy-thriftserver-session-0.7.1-incubating.jar\n",
      "22/11/27 11:52:21 INFO Client: Uploading resource file:/usr/lib/livy/rsc-jars/native_ref-java-1.1.jar -> hdfs:/tmp/livy/.sparkStaging/application_1669518846024_0015/native_ref-java-1.1.jar\n",
      "22/11/27 11:52:21 INFO Client: Uploading resource file:/usr/lib/livy/rsc-jars/native_system-java-1.1.jar -> hdfs:/tmp/livy/.sparkStaging/application_1669518846024_0015/native_system-java-1.1.jar\n",
      "22/11/27 11:52:21 INFO Client: Uploading resource file:/usr/lib/livy/rsc-jars/netlib-native_ref-linux-armhf-1.1-natives.jar -> hdfs:/tmp/livy/.sparkStaging/application_1669518846024_0015/netlib-native_ref-linux-armhf-1.1-natives.jar\n",
      "22/11/27 11:52:21 INFO Client: Uploading resource file:/usr/lib/livy/rsc-jars/netlib-native_ref-linux-i686-1.1-natives.jar -> hdfs:/tmp/livy/.sparkStaging/application_1669518846024_0015/netlib-native_ref-linux-i686-1.1-natives.jar\n",
      "22/11/27 11:52:21 INFO Client: Uploading resource file:/usr/lib/livy/rsc-jars/netlib-native_ref-linux-x86_64-1.1-natives.jar -> hdfs:/tmp/livy/.sparkStaging/application_1669518846024_0015/netlib-native_ref-linux-x86_64-1.1-natives.jar\n",
      "22/11/27 11:52:21 INFO Client: Uploading resource file:/usr/lib/livy/rsc-jars/netlib-native_ref-osx-x86_64-1.1-natives.jar -> hdfs:/tmp/livy/.sparkStaging/application_1669518846024_0015/netlib-native_ref-osx-x86_64-1.1-natives.jar\n",
      "22/11/27 11:52:21 INFO Client: Uploading resource file:/usr/lib/livy/rsc-jars/netlib-native_ref-win-i686-1.1-natives.jar -> hdfs:/tmp/livy/.sparkStaging/application_1669518846024_0015/netlib-native_ref-win-i686-1.1-natives.jar\n",
      "22/11/27 11:52:21 INFO Client: Uploading resource file:/usr/lib/livy/rsc-jars/netlib-native_ref-win-x86_64-1.1-natives.jar -> hdfs:/tmp/livy/.sparkStaging/application_1669518846024_0015/netlib-native_ref-win-x86_64-1.1-natives.jar\n",
      "22/11/27 11:52:21 INFO Client: Uploading resource file:/usr/lib/livy/rsc-jars/netlib-native_system-linux-armhf-1.1-natives.jar -> hdfs:/tmp/livy/.sparkStaging/application_1669518846024_0015/netlib-native_system-linux-armhf-1.1-natives.jar\n",
      "22/11/27 11:52:21 INFO Client: Uploading resource file:/usr/lib/livy/rsc-jars/netlib-native_system-linux-i686-1.1-natives.jar -> hdfs:/tmp/livy/.sparkStaging/application_1669518846024_0015/netlib-native_system-linux-i686-1.1-natives.jar\n",
      "22/11/27 11:52:21 INFO Client: Uploading resource file:/usr/lib/livy/rsc-jars/netlib-native_system-linux-x86_64-1.1-natives.jar -> hdfs:/tmp/livy/.sparkStaging/application_1669518846024_0015/netlib-native_system-linux-x86_64-1.1-natives.jar\n",
      "22/11/27 11:52:21 INFO Client: Uploading resource file:/usr/lib/livy/rsc-jars/netlib-native_system-osx-x86_64-1.1-natives.jar -> hdfs:/tmp/livy/.sparkStaging/application_1669518846024_0015/netlib-native_system-osx-x86_64-1.1-natives.jar\n",
      "22/11/27 11:52:21 INFO Client: Uploading resource file:/usr/lib/livy/rsc-jars/netlib-native_system-win-i686-1.1-natives.jar -> hdfs:/tmp/livy/.sparkStaging/application_1669518846024_0015/netlib-native_system-win-i686-1.1-natives.jar\n",
      "22/11/27 11:52:21 INFO Client: Uploading resource file:/usr/lib/livy/rsc-jars/netlib-native_system-win-x86_64-1.1-natives.jar -> hdfs:/tmp/livy/.sparkStaging/application_1669518846024_0015/netlib-native_system-win-x86_64-1.1-natives.jar\n",
      "22/11/27 11:52:21 INFO Client: Uploading resource file:/usr/lib/livy/rsc-jars/netty-all-4.1.17.Final.jar -> hdfs:/tmp/livy/.sparkStaging/application_1669518846024_0015/netty-all-4.1.17.Final.jar\n",
      "22/11/27 11:52:21 INFO Client: Uploading resource file:/usr/lib/livy/repl_2.12-jars/commons-codec-1.9.jar -> hdfs:/tmp/livy/.sparkStaging/application_1669518846024_0015/commons-codec-1.9.jar\n",
      "22/11/27 11:52:21 INFO Client: Uploading resource file:/usr/lib/livy/repl_2.12-jars/livy-core_2.12-0.7.1-incubating.jar -> hdfs:/tmp/livy/.sparkStaging/application_1669518846024_0015/livy-core_2.12-0.7.1-incubating.jar\n",
      "22/11/27 11:52:21 INFO Client: Uploading resource file:/usr/lib/livy/repl_2.12-jars/livy-repl_2.12-0.7.1-incubating.jar -> hdfs:/tmp/livy/.sparkStaging/application_1669518846024_0015/livy-repl_2.12-0.7.1-incubating.jar\n",
      "22/11/27 11:52:21 INFO Client: Uploading resource file:/mnt/var/lib/livy/.ivy2/jars/com.johnsnowlabs.nlp_spark-nlp_2.12-4.2.3.jar -> hdfs:/tmp/livy/.sparkStaging/application_1669518846024_0015/com.johnsnowlabs.nlp_spark-nlp_2.12-4.2.3.jar\n",
      "22/11/27 11:52:21 INFO Client: Uploading resource file:/mnt/var/lib/livy/.ivy2/jars/com.typesafe_config-1.4.2.jar -> hdfs:/tmp/livy/.sparkStaging/application_1669518846024_0015/com.typesafe_config-1.4.2.jar\n",
      "22/11/27 11:52:21 INFO Client: Uploading resource file:/mnt/var/lib/livy/.ivy2/jars/org.rocksdb_rocksdbjni-6.29.5.jar -> hdfs:/tmp/livy/.sparkStaging/application_1669518846024_0015/org.rocksdb_rocksdbjni-6.29.5.jar\n",
      "22/11/27 11:52:21 INFO Client: Uploading resource file:/mnt/var/lib/livy/.ivy2/jars/com.amazonaws_aws-java-sdk-bundle-1.11.828.jar -> hdfs:/tmp/livy/.sparkStaging/application_1669518846024_0015/com.amazonaws_aws-java-sdk-bundle-1.11.828.jar\n",
      "22/11/27 11:52:22 INFO Client: Uploading resource file:/mnt/var/lib/livy/.ivy2/jars/com.github.universal-automata_liblevenshtein-3.0.0.jar -> hdfs:/tmp/livy/.sparkStaging/application_1669518846024_0015/com.github.universal-automata_liblevenshtein-3.0.0.jar\n",
      "22/11/27 11:52:22 INFO Client: Uploading resource file:/mnt/var/lib/livy/.ivy2/jars/com.navigamez_greex-1.0.jar -> hdfs:/tmp/livy/.sparkStaging/application_1669518846024_0015/com.navigamez_greex-1.0.jar\n",
      "22/11/27 11:52:22 INFO Client: Uploading resource file:/mnt/var/lib/livy/.ivy2/jars/com.johnsnowlabs.nlp_tensorflow-cpu_2.12-0.4.3.jar -> hdfs:/tmp/livy/.sparkStaging/application_1669518846024_0015/com.johnsnowlabs.nlp_tensorflow-cpu_2.12-0.4.3.jar\n",
      "22/11/27 11:52:22 INFO Client: Uploading resource file:/mnt/var/lib/livy/.ivy2/jars/com.google.code.findbugs_annotations-3.0.1.jar -> hdfs:/tmp/livy/.sparkStaging/application_1669518846024_0015/com.google.code.findbugs_annotations-3.0.1.jar\n",
      "22/11/27 11:52:22 INFO Client: Uploading resource file:/mnt/var/lib/livy/.ivy2/jars/com.google.protobuf_protobuf-java-util-3.0.0-beta-3.jar -> hdfs:/tmp/livy/.sparkStaging/application_1669518846024_0015/com.google.protobuf_protobuf-java-util-3.0.0-beta-3.jar\n",
      "22/11/27 11:52:22 INFO Client: Uploading resource file:/mnt/var/lib/livy/.ivy2/jars/com.google.protobuf_protobuf-java-3.0.0-beta-3.jar -> hdfs:/tmp/livy/.sparkStaging/application_1669518846024_0015/com.google.protobuf_protobuf-java-3.0.0-beta-3.jar\n",
      "22/11/27 11:52:22 INFO Client: Uploading resource file:/mnt/var/lib/livy/.ivy2/jars/it.unimi.dsi_fastutil-7.0.12.jar -> hdfs:/tmp/livy/.sparkStaging/application_1669518846024_0015/it.unimi.dsi_fastutil-7.0.12.jar\n"
     ]
    }
   ],
   "source": [
    "ner_model.show()"
   ]
  },
  {
   "cell_type": "code",
   "execution_count": null,
   "id": "5b4ddf0c-32d0-4024-8321-d97fb7cf4902",
   "metadata": {},
   "outputs": [],
   "source": []
  }
 ],
 "metadata": {
  "kernelspec": {
   "display_name": "PySpark",
   "language": "python",
   "name": "pysparkkernel"
  },
  "language_info": {
   "codemirror_mode": {
    "name": "python",
    "version": 3
   },
   "file_extension": ".py",
   "mimetype": "text/x-python",
   "name": "pyspark",
   "pygments_lexer": "python3"
  }
 },
 "nbformat": 4,
 "nbformat_minor": 5
}
